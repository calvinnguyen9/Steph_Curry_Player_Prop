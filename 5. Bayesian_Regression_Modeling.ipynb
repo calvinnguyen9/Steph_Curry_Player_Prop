{
 "cells": [
  {
   "cell_type": "code",
   "execution_count": 1,
   "metadata": {},
   "outputs": [],
   "source": [
    "import os\n",
    "import pandas as pd\n",
    "import numpy as np\n",
    "import datetime as dt\n",
    "from sklearn.model_selection import train_test_split\n",
    "from sklearn.feature_selection import SelectKBest, chi2, RFE, SelectFromModel\n",
    "from sklearn.preprocessing import MinMaxScaler, StandardScaler\n",
    "from sklearn.linear_model import LinearRegression, Lasso, LassoCV\n",
    "from sklearn.tree import DecisionTreeRegressor\n",
    "from sklearn.ensemble import RandomForestRegressor\n",
    "from xgboost import XGBRegressor\n",
    "import pymc as pm\n",
    "import pymc_bart as pmb\n",
    "#import theano\n",
    "import arviz as az\n",
    "from sklearn.metrics import mean_absolute_error, mean_squared_error\n",
    "import matplotlib.pyplot as plt\n",
    "import seaborn as sns\n",
    "\n",
    "pd.set_option('display.max_columns', None)\n",
    "\n",
    "save_loc = 'C:\\\\Users\\\\calvi\\\\OneDrive\\\\Desktop\\\\database\\\\curry_prop'\n",
    "os.chdir(save_loc)"
   ]
  },
  {
   "cell_type": "code",
   "execution_count": 2,
   "metadata": {},
   "outputs": [],
   "source": [
    "def odds_calculator(event_probability):\n",
    "    if event_probability == 0.5:\n",
    "        return('+100.0')\n",
    "    if event_probability > 0.5:\n",
    "        return('-' + str(100/(1 - event_probability) - 100))\n",
    "    if event_probability < 0.5:\n",
    "        return('+' + str(100/event_probability - 100))"
   ]
  },
  {
   "cell_type": "markdown",
   "metadata": {},
   "source": [
    "# Reading Data"
   ]
  },
  {
   "cell_type": "code",
   "execution_count": 5,
   "metadata": {},
   "outputs": [
    {
     "data": {
      "text/html": [
       "<div>\n",
       "<style scoped>\n",
       "    .dataframe tbody tr th:only-of-type {\n",
       "        vertical-align: middle;\n",
       "    }\n",
       "\n",
       "    .dataframe tbody tr th {\n",
       "        vertical-align: top;\n",
       "    }\n",
       "\n",
       "    .dataframe thead th {\n",
       "        text-align: right;\n",
       "    }\n",
       "</style>\n",
       "<table border=\"1\" class=\"dataframe\">\n",
       "  <thead>\n",
       "    <tr style=\"text-align: right;\">\n",
       "      <th></th>\n",
       "      <th>PPG</th>\n",
       "      <th>Avg_2PA</th>\n",
       "      <th>Avg_3PA</th>\n",
       "      <th>Avg_FTA</th>\n",
       "      <th>3PT_Percentage</th>\n",
       "      <th>True_Shooting_Percentage_Season</th>\n",
       "      <th>Effective_FG_Percentage_Season</th>\n",
       "      <th>TEAM_PPG</th>\n",
       "      <th>TEAM_AVG_PACE</th>\n",
       "      <th>OPP_2PA_AVG</th>\n",
       "      <th>OPP_2P%</th>\n",
       "      <th>OPP_3PA_AVG</th>\n",
       "      <th>OPP_3P%</th>\n",
       "      <th>OPP_FTA_AVG</th>\n",
       "      <th>BestGuardScoringAvg</th>\n",
       "      <th>StephScoringAVGvsOPP</th>\n",
       "      <th>PTS</th>\n",
       "    </tr>\n",
       "  </thead>\n",
       "  <tbody>\n",
       "    <tr>\n",
       "      <th>0</th>\n",
       "      <td>10.400000</td>\n",
       "      <td>6.333333</td>\n",
       "      <td>2.733333</td>\n",
       "      <td>1.733333</td>\n",
       "      <td>0.390244</td>\n",
       "      <td>0.525784</td>\n",
       "      <td>0.500000</td>\n",
       "      <td>108.466667</td>\n",
       "      <td>102.433333</td>\n",
       "      <td>21.500000</td>\n",
       "      <td>0.435216</td>\n",
       "      <td>8.428571</td>\n",
       "      <td>0.381356</td>\n",
       "      <td>9.500000</td>\n",
       "      <td>19.571429</td>\n",
       "      <td>6.000000</td>\n",
       "      <td>7</td>\n",
       "    </tr>\n",
       "    <tr>\n",
       "      <th>1</th>\n",
       "      <td>10.176471</td>\n",
       "      <td>6.235294</td>\n",
       "      <td>2.882353</td>\n",
       "      <td>1.647059</td>\n",
       "      <td>0.387755</td>\n",
       "      <td>0.513963</td>\n",
       "      <td>0.487097</td>\n",
       "      <td>109.411765</td>\n",
       "      <td>103.058824</td>\n",
       "      <td>21.277778</td>\n",
       "      <td>0.493473</td>\n",
       "      <td>7.055556</td>\n",
       "      <td>0.370079</td>\n",
       "      <td>7.333333</td>\n",
       "      <td>21.222222</td>\n",
       "      <td>14.000000</td>\n",
       "      <td>11</td>\n",
       "    </tr>\n",
       "    <tr>\n",
       "      <th>2</th>\n",
       "      <td>11.333333</td>\n",
       "      <td>6.708333</td>\n",
       "      <td>3.041667</td>\n",
       "      <td>1.875000</td>\n",
       "      <td>0.369863</td>\n",
       "      <td>0.532550</td>\n",
       "      <td>0.502137</td>\n",
       "      <td>106.958333</td>\n",
       "      <td>102.125000</td>\n",
       "      <td>22.318182</td>\n",
       "      <td>0.448065</td>\n",
       "      <td>7.500000</td>\n",
       "      <td>0.339394</td>\n",
       "      <td>7.909091</td>\n",
       "      <td>19.272727</td>\n",
       "      <td>11.000000</td>\n",
       "      <td>8</td>\n",
       "    </tr>\n",
       "    <tr>\n",
       "      <th>3</th>\n",
       "      <td>11.807692</td>\n",
       "      <td>6.846154</td>\n",
       "      <td>3.230769</td>\n",
       "      <td>1.884615</td>\n",
       "      <td>0.380952</td>\n",
       "      <td>0.538077</td>\n",
       "      <td>0.507634</td>\n",
       "      <td>106.423077</td>\n",
       "      <td>102.288462</td>\n",
       "      <td>20.703704</td>\n",
       "      <td>0.490161</td>\n",
       "      <td>8.777778</td>\n",
       "      <td>0.413502</td>\n",
       "      <td>7.148148</td>\n",
       "      <td>19.740741</td>\n",
       "      <td>7.000000</td>\n",
       "      <td>14</td>\n",
       "    </tr>\n",
       "    <tr>\n",
       "      <th>4</th>\n",
       "      <td>12.071429</td>\n",
       "      <td>6.964286</td>\n",
       "      <td>3.392857</td>\n",
       "      <td>1.821429</td>\n",
       "      <td>0.389474</td>\n",
       "      <td>0.537831</td>\n",
       "      <td>0.508621</td>\n",
       "      <td>106.321429</td>\n",
       "      <td>102.250000</td>\n",
       "      <td>19.333333</td>\n",
       "      <td>0.450000</td>\n",
       "      <td>9.433333</td>\n",
       "      <td>0.353357</td>\n",
       "      <td>7.466667</td>\n",
       "      <td>16.133333</td>\n",
       "      <td>12.000000</td>\n",
       "      <td>13</td>\n",
       "    </tr>\n",
       "    <tr>\n",
       "      <th>...</th>\n",
       "      <td>...</td>\n",
       "      <td>...</td>\n",
       "      <td>...</td>\n",
       "      <td>...</td>\n",
       "      <td>...</td>\n",
       "      <td>...</td>\n",
       "      <td>...</td>\n",
       "      <td>...</td>\n",
       "      <td>...</td>\n",
       "      <td>...</td>\n",
       "      <td>...</td>\n",
       "      <td>...</td>\n",
       "      <td>...</td>\n",
       "      <td>...</td>\n",
       "      <td>...</td>\n",
       "      <td>...</td>\n",
       "      <td>...</td>\n",
       "    </tr>\n",
       "    <tr>\n",
       "      <th>831</th>\n",
       "      <td>29.588235</td>\n",
       "      <td>8.745098</td>\n",
       "      <td>11.450980</td>\n",
       "      <td>5.058824</td>\n",
       "      <td>0.428082</td>\n",
       "      <td>0.654635</td>\n",
       "      <td>0.618447</td>\n",
       "      <td>118.194805</td>\n",
       "      <td>102.517403</td>\n",
       "      <td>24.736842</td>\n",
       "      <td>0.524468</td>\n",
       "      <td>16.302632</td>\n",
       "      <td>0.380145</td>\n",
       "      <td>8.605263</td>\n",
       "      <td>23.197368</td>\n",
       "      <td>21.181818</td>\n",
       "      <td>33</td>\n",
       "    </tr>\n",
       "    <tr>\n",
       "      <th>832</th>\n",
       "      <td>29.653846</td>\n",
       "      <td>8.769231</td>\n",
       "      <td>11.442308</td>\n",
       "      <td>5.038462</td>\n",
       "      <td>0.431933</td>\n",
       "      <td>0.655919</td>\n",
       "      <td>0.619886</td>\n",
       "      <td>118.346154</td>\n",
       "      <td>102.478718</td>\n",
       "      <td>21.571429</td>\n",
       "      <td>0.527393</td>\n",
       "      <td>17.337662</td>\n",
       "      <td>0.352060</td>\n",
       "      <td>9.467532</td>\n",
       "      <td>22.792208</td>\n",
       "      <td>24.076923</td>\n",
       "      <td>21</td>\n",
       "    </tr>\n",
       "    <tr>\n",
       "      <th>833</th>\n",
       "      <td>29.490566</td>\n",
       "      <td>8.867925</td>\n",
       "      <td>11.490566</td>\n",
       "      <td>5.000000</td>\n",
       "      <td>0.425287</td>\n",
       "      <td>0.648615</td>\n",
       "      <td>0.612141</td>\n",
       "      <td>118.240506</td>\n",
       "      <td>102.447342</td>\n",
       "      <td>20.620253</td>\n",
       "      <td>0.516268</td>\n",
       "      <td>18.291139</td>\n",
       "      <td>0.365398</td>\n",
       "      <td>9.594937</td>\n",
       "      <td>22.670886</td>\n",
       "      <td>26.357143</td>\n",
       "      <td>34</td>\n",
       "    </tr>\n",
       "    <tr>\n",
       "      <th>834</th>\n",
       "      <td>29.574074</td>\n",
       "      <td>8.925926</td>\n",
       "      <td>11.518519</td>\n",
       "      <td>5.018519</td>\n",
       "      <td>0.426045</td>\n",
       "      <td>0.647752</td>\n",
       "      <td>0.610960</td>\n",
       "      <td>118.462500</td>\n",
       "      <td>102.441750</td>\n",
       "      <td>21.650000</td>\n",
       "      <td>0.518476</td>\n",
       "      <td>16.337500</td>\n",
       "      <td>0.393267</td>\n",
       "      <td>8.800000</td>\n",
       "      <td>23.762500</td>\n",
       "      <td>24.121951</td>\n",
       "      <td>25</td>\n",
       "    </tr>\n",
       "    <tr>\n",
       "      <th>835</th>\n",
       "      <td>29.490909</td>\n",
       "      <td>8.890909</td>\n",
       "      <td>11.436364</td>\n",
       "      <td>5.054545</td>\n",
       "      <td>0.426073</td>\n",
       "      <td>0.648774</td>\n",
       "      <td>0.611807</td>\n",
       "      <td>118.469136</td>\n",
       "      <td>102.417778</td>\n",
       "      <td>21.432099</td>\n",
       "      <td>0.514977</td>\n",
       "      <td>17.876543</td>\n",
       "      <td>0.387431</td>\n",
       "      <td>9.888889</td>\n",
       "      <td>23.481481</td>\n",
       "      <td>27.694444</td>\n",
       "      <td>26</td>\n",
       "    </tr>\n",
       "  </tbody>\n",
       "</table>\n",
       "<p>836 rows × 17 columns</p>\n",
       "</div>"
      ],
      "text/plain": [
       "           PPG   Avg_2PA    Avg_3PA   Avg_FTA  3PT_Percentage  \\\n",
       "0    10.400000  6.333333   2.733333  1.733333        0.390244   \n",
       "1    10.176471  6.235294   2.882353  1.647059        0.387755   \n",
       "2    11.333333  6.708333   3.041667  1.875000        0.369863   \n",
       "3    11.807692  6.846154   3.230769  1.884615        0.380952   \n",
       "4    12.071429  6.964286   3.392857  1.821429        0.389474   \n",
       "..         ...       ...        ...       ...             ...   \n",
       "831  29.588235  8.745098  11.450980  5.058824        0.428082   \n",
       "832  29.653846  8.769231  11.442308  5.038462        0.431933   \n",
       "833  29.490566  8.867925  11.490566  5.000000        0.425287   \n",
       "834  29.574074  8.925926  11.518519  5.018519        0.426045   \n",
       "835  29.490909  8.890909  11.436364  5.054545        0.426073   \n",
       "\n",
       "     True_Shooting_Percentage_Season  Effective_FG_Percentage_Season  \\\n",
       "0                           0.525784                        0.500000   \n",
       "1                           0.513963                        0.487097   \n",
       "2                           0.532550                        0.502137   \n",
       "3                           0.538077                        0.507634   \n",
       "4                           0.537831                        0.508621   \n",
       "..                               ...                             ...   \n",
       "831                         0.654635                        0.618447   \n",
       "832                         0.655919                        0.619886   \n",
       "833                         0.648615                        0.612141   \n",
       "834                         0.647752                        0.610960   \n",
       "835                         0.648774                        0.611807   \n",
       "\n",
       "       TEAM_PPG  TEAM_AVG_PACE  OPP_2PA_AVG   OPP_2P%  OPP_3PA_AVG   OPP_3P%  \\\n",
       "0    108.466667     102.433333    21.500000  0.435216     8.428571  0.381356   \n",
       "1    109.411765     103.058824    21.277778  0.493473     7.055556  0.370079   \n",
       "2    106.958333     102.125000    22.318182  0.448065     7.500000  0.339394   \n",
       "3    106.423077     102.288462    20.703704  0.490161     8.777778  0.413502   \n",
       "4    106.321429     102.250000    19.333333  0.450000     9.433333  0.353357   \n",
       "..          ...            ...          ...       ...          ...       ...   \n",
       "831  118.194805     102.517403    24.736842  0.524468    16.302632  0.380145   \n",
       "832  118.346154     102.478718    21.571429  0.527393    17.337662  0.352060   \n",
       "833  118.240506     102.447342    20.620253  0.516268    18.291139  0.365398   \n",
       "834  118.462500     102.441750    21.650000  0.518476    16.337500  0.393267   \n",
       "835  118.469136     102.417778    21.432099  0.514977    17.876543  0.387431   \n",
       "\n",
       "     OPP_FTA_AVG  BestGuardScoringAvg  StephScoringAVGvsOPP  PTS  \n",
       "0       9.500000            19.571429              6.000000    7  \n",
       "1       7.333333            21.222222             14.000000   11  \n",
       "2       7.909091            19.272727             11.000000    8  \n",
       "3       7.148148            19.740741              7.000000   14  \n",
       "4       7.466667            16.133333             12.000000   13  \n",
       "..           ...                  ...                   ...  ...  \n",
       "831     8.605263            23.197368             21.181818   33  \n",
       "832     9.467532            22.792208             24.076923   21  \n",
       "833     9.594937            22.670886             26.357143   34  \n",
       "834     8.800000            23.762500             24.121951   25  \n",
       "835     9.888889            23.481481             27.694444   26  \n",
       "\n",
       "[836 rows x 17 columns]"
      ]
     },
     "execution_count": 5,
     "metadata": {},
     "output_type": "execute_result"
    }
   ],
   "source": [
    "df = pd.read_csv('df_model4.csv', index_col=0)\n",
    "df.drop(index=df[pd.isnull(df).any(axis=1)].index, axis=0, inplace=True)\n",
    "df.reset_index(drop=True, inplace=True)\n",
    "df"
   ]
  },
  {
   "cell_type": "markdown",
   "metadata": {},
   "source": [
    "# 1. Train/Test Split & Baseline Frequentist Models"
   ]
  },
  {
   "cell_type": "code",
   "execution_count": 6,
   "metadata": {},
   "outputs": [],
   "source": [
    "X = df.iloc[:,:-1]\n",
    "y = df.iloc[:, -1]\n",
    "\n",
    "X_train, X_test, Y_train, Y_test = train_test_split(X, y, test_size=0.2, random_state=42)\n",
    "\n",
    "scaler = StandardScaler()\n",
    "scaler.fit(X_train)\n",
    "X_train_scaled = scaler.transform(X_train)\n",
    "X_test_scaled = scaler.transform(X_test)"
   ]
  },
  {
   "cell_type": "code",
   "execution_count": 7,
   "metadata": {},
   "outputs": [
    {
     "data": {
      "text/html": [
       "<style>#sk-container-id-1 {color: black;}#sk-container-id-1 pre{padding: 0;}#sk-container-id-1 div.sk-toggleable {background-color: white;}#sk-container-id-1 label.sk-toggleable__label {cursor: pointer;display: block;width: 100%;margin-bottom: 0;padding: 0.3em;box-sizing: border-box;text-align: center;}#sk-container-id-1 label.sk-toggleable__label-arrow:before {content: \"▸\";float: left;margin-right: 0.25em;color: #696969;}#sk-container-id-1 label.sk-toggleable__label-arrow:hover:before {color: black;}#sk-container-id-1 div.sk-estimator:hover label.sk-toggleable__label-arrow:before {color: black;}#sk-container-id-1 div.sk-toggleable__content {max-height: 0;max-width: 0;overflow: hidden;text-align: left;background-color: #f0f8ff;}#sk-container-id-1 div.sk-toggleable__content pre {margin: 0.2em;color: black;border-radius: 0.25em;background-color: #f0f8ff;}#sk-container-id-1 input.sk-toggleable__control:checked~div.sk-toggleable__content {max-height: 200px;max-width: 100%;overflow: auto;}#sk-container-id-1 input.sk-toggleable__control:checked~label.sk-toggleable__label-arrow:before {content: \"▾\";}#sk-container-id-1 div.sk-estimator input.sk-toggleable__control:checked~label.sk-toggleable__label {background-color: #d4ebff;}#sk-container-id-1 div.sk-label input.sk-toggleable__control:checked~label.sk-toggleable__label {background-color: #d4ebff;}#sk-container-id-1 input.sk-hidden--visually {border: 0;clip: rect(1px 1px 1px 1px);clip: rect(1px, 1px, 1px, 1px);height: 1px;margin: -1px;overflow: hidden;padding: 0;position: absolute;width: 1px;}#sk-container-id-1 div.sk-estimator {font-family: monospace;background-color: #f0f8ff;border: 1px dotted black;border-radius: 0.25em;box-sizing: border-box;margin-bottom: 0.5em;}#sk-container-id-1 div.sk-estimator:hover {background-color: #d4ebff;}#sk-container-id-1 div.sk-parallel-item::after {content: \"\";width: 100%;border-bottom: 1px solid gray;flex-grow: 1;}#sk-container-id-1 div.sk-label:hover label.sk-toggleable__label {background-color: #d4ebff;}#sk-container-id-1 div.sk-serial::before {content: \"\";position: absolute;border-left: 1px solid gray;box-sizing: border-box;top: 0;bottom: 0;left: 50%;z-index: 0;}#sk-container-id-1 div.sk-serial {display: flex;flex-direction: column;align-items: center;background-color: white;padding-right: 0.2em;padding-left: 0.2em;position: relative;}#sk-container-id-1 div.sk-item {position: relative;z-index: 1;}#sk-container-id-1 div.sk-parallel {display: flex;align-items: stretch;justify-content: center;background-color: white;position: relative;}#sk-container-id-1 div.sk-item::before, #sk-container-id-1 div.sk-parallel-item::before {content: \"\";position: absolute;border-left: 1px solid gray;box-sizing: border-box;top: 0;bottom: 0;left: 50%;z-index: -1;}#sk-container-id-1 div.sk-parallel-item {display: flex;flex-direction: column;z-index: 1;position: relative;background-color: white;}#sk-container-id-1 div.sk-parallel-item:first-child::after {align-self: flex-end;width: 50%;}#sk-container-id-1 div.sk-parallel-item:last-child::after {align-self: flex-start;width: 50%;}#sk-container-id-1 div.sk-parallel-item:only-child::after {width: 0;}#sk-container-id-1 div.sk-dashed-wrapped {border: 1px dashed gray;margin: 0 0.4em 0.5em 0.4em;box-sizing: border-box;padding-bottom: 0.4em;background-color: white;}#sk-container-id-1 div.sk-label label {font-family: monospace;font-weight: bold;display: inline-block;line-height: 1.2em;}#sk-container-id-1 div.sk-label-container {text-align: center;}#sk-container-id-1 div.sk-container {/* jupyter's `normalize.less` sets `[hidden] { display: none; }` but bootstrap.min.css set `[hidden] { display: none !important; }` so we also need the `!important` here to be able to override the default hidden behavior on the sphinx rendered scikit-learn.org. See: https://github.com/scikit-learn/scikit-learn/issues/21755 */display: inline-block !important;position: relative;}#sk-container-id-1 div.sk-text-repr-fallback {display: none;}</style><div id=\"sk-container-id-1\" class=\"sk-top-container\"><div class=\"sk-text-repr-fallback\"><pre>RandomForestRegressor(random_state=42)</pre><b>In a Jupyter environment, please rerun this cell to show the HTML representation or trust the notebook. <br />On GitHub, the HTML representation is unable to render, please try loading this page with nbviewer.org.</b></div><div class=\"sk-container\" hidden><div class=\"sk-item\"><div class=\"sk-estimator sk-toggleable\"><input class=\"sk-toggleable__control sk-hidden--visually\" id=\"sk-estimator-id-1\" type=\"checkbox\" checked><label for=\"sk-estimator-id-1\" class=\"sk-toggleable__label sk-toggleable__label-arrow\">RandomForestRegressor</label><div class=\"sk-toggleable__content\"><pre>RandomForestRegressor(random_state=42)</pre></div></div></div></div></div>"
      ],
      "text/plain": [
       "RandomForestRegressor(random_state=42)"
      ]
     },
     "execution_count": 7,
     "metadata": {},
     "output_type": "execute_result"
    }
   ],
   "source": [
    "#model = LinearRegression()\n",
    "#model = Lasso()\n",
    "#model = DecisionTreeRegressor()\n",
    "model = RandomForestRegressor(random_state=42)\n",
    "#model = XGBRegressor(random_state=42)\n",
    "\n",
    "model.fit(X_train, Y_train)"
   ]
  },
  {
   "cell_type": "code",
   "execution_count": 8,
   "metadata": {},
   "outputs": [
    {
     "name": "stdout",
     "output_type": "stream",
     "text": [
      "2.687230538922156\n",
      "7.477440476190476\n",
      "3.4183491962561274\n",
      "9.256593563766419\n"
     ]
    }
   ],
   "source": [
    "print(mean_absolute_error(model.predict(X_train), Y_train))\n",
    "print(mean_absolute_error(model.predict(X_test), Y_test))\n",
    "print(np.sqrt(mean_squared_error(model.predict(X_train), Y_train)))\n",
    "print(np.sqrt(mean_squared_error(model.predict(X_test), Y_test)))"
   ]
  },
  {
   "cell_type": "markdown",
   "metadata": {},
   "source": [
    "# 2. Model Training"
   ]
  },
  {
   "cell_type": "markdown",
   "metadata": {},
   "source": [
    "## 2.1 Training"
   ]
  },
  {
   "cell_type": "code",
   "execution_count": 9,
   "metadata": {},
   "outputs": [
    {
     "name": "stderr",
     "output_type": "stream",
     "text": [
      "Sequential sampling (4 chains in 1 job)\n",
      "CompoundStep\n",
      ">NUTS: [sigma]\n",
      ">PGBART: [mu]\n"
     ]
    },
    {
     "data": {
      "text/html": [
       "\n",
       "<style>\n",
       "    /* Turns off some styling */\n",
       "    progress {\n",
       "        /* gets rid of default border in Firefox and Opera. */\n",
       "        border: none;\n",
       "        /* Needs to be in here for Safari polyfill so background images work as expected. */\n",
       "        background-size: auto;\n",
       "    }\n",
       "    progress:not([value]), progress:not([value])::-webkit-progress-bar {\n",
       "        background: repeating-linear-gradient(45deg, #7e7e7e, #7e7e7e 10px, #5c5c5c 10px, #5c5c5c 20px);\n",
       "    }\n",
       "    .progress-bar-interrupted, .progress-bar-interrupted::-webkit-progress-bar {\n",
       "        background: #F44336;\n",
       "    }\n",
       "</style>\n"
      ],
      "text/plain": [
       "<IPython.core.display.HTML object>"
      ]
     },
     "metadata": {},
     "output_type": "display_data"
    },
    {
     "data": {
      "text/html": [
       "\n",
       "    <div>\n",
       "      <progress value='3000' class='' max='3000' style='width:300px; height:20px; vertical-align: middle;'></progress>\n",
       "      100.00% [3000/3000 02:20&lt;00:00 Sampling chain 0, 0 divergences]\n",
       "    </div>\n",
       "    "
      ],
      "text/plain": [
       "<IPython.core.display.HTML object>"
      ]
     },
     "metadata": {},
     "output_type": "display_data"
    },
    {
     "data": {
      "text/html": [
       "\n",
       "<style>\n",
       "    /* Turns off some styling */\n",
       "    progress {\n",
       "        /* gets rid of default border in Firefox and Opera. */\n",
       "        border: none;\n",
       "        /* Needs to be in here for Safari polyfill so background images work as expected. */\n",
       "        background-size: auto;\n",
       "    }\n",
       "    progress:not([value]), progress:not([value])::-webkit-progress-bar {\n",
       "        background: repeating-linear-gradient(45deg, #7e7e7e, #7e7e7e 10px, #5c5c5c 10px, #5c5c5c 20px);\n",
       "    }\n",
       "    .progress-bar-interrupted, .progress-bar-interrupted::-webkit-progress-bar {\n",
       "        background: #F44336;\n",
       "    }\n",
       "</style>\n"
      ],
      "text/plain": [
       "<IPython.core.display.HTML object>"
      ]
     },
     "metadata": {},
     "output_type": "display_data"
    },
    {
     "data": {
      "text/html": [
       "\n",
       "    <div>\n",
       "      <progress value='3000' class='' max='3000' style='width:300px; height:20px; vertical-align: middle;'></progress>\n",
       "      100.00% [3000/3000 02:25&lt;00:00 Sampling chain 1, 0 divergences]\n",
       "    </div>\n",
       "    "
      ],
      "text/plain": [
       "<IPython.core.display.HTML object>"
      ]
     },
     "metadata": {},
     "output_type": "display_data"
    },
    {
     "data": {
      "text/html": [
       "\n",
       "<style>\n",
       "    /* Turns off some styling */\n",
       "    progress {\n",
       "        /* gets rid of default border in Firefox and Opera. */\n",
       "        border: none;\n",
       "        /* Needs to be in here for Safari polyfill so background images work as expected. */\n",
       "        background-size: auto;\n",
       "    }\n",
       "    progress:not([value]), progress:not([value])::-webkit-progress-bar {\n",
       "        background: repeating-linear-gradient(45deg, #7e7e7e, #7e7e7e 10px, #5c5c5c 10px, #5c5c5c 20px);\n",
       "    }\n",
       "    .progress-bar-interrupted, .progress-bar-interrupted::-webkit-progress-bar {\n",
       "        background: #F44336;\n",
       "    }\n",
       "</style>\n"
      ],
      "text/plain": [
       "<IPython.core.display.HTML object>"
      ]
     },
     "metadata": {},
     "output_type": "display_data"
    },
    {
     "data": {
      "text/html": [
       "\n",
       "    <div>\n",
       "      <progress value='3000' class='' max='3000' style='width:300px; height:20px; vertical-align: middle;'></progress>\n",
       "      100.00% [3000/3000 02:24&lt;00:00 Sampling chain 2, 0 divergences]\n",
       "    </div>\n",
       "    "
      ],
      "text/plain": [
       "<IPython.core.display.HTML object>"
      ]
     },
     "metadata": {},
     "output_type": "display_data"
    },
    {
     "data": {
      "text/html": [
       "\n",
       "<style>\n",
       "    /* Turns off some styling */\n",
       "    progress {\n",
       "        /* gets rid of default border in Firefox and Opera. */\n",
       "        border: none;\n",
       "        /* Needs to be in here for Safari polyfill so background images work as expected. */\n",
       "        background-size: auto;\n",
       "    }\n",
       "    progress:not([value]), progress:not([value])::-webkit-progress-bar {\n",
       "        background: repeating-linear-gradient(45deg, #7e7e7e, #7e7e7e 10px, #5c5c5c 10px, #5c5c5c 20px);\n",
       "    }\n",
       "    .progress-bar-interrupted, .progress-bar-interrupted::-webkit-progress-bar {\n",
       "        background: #F44336;\n",
       "    }\n",
       "</style>\n"
      ],
      "text/plain": [
       "<IPython.core.display.HTML object>"
      ]
     },
     "metadata": {},
     "output_type": "display_data"
    },
    {
     "data": {
      "text/html": [
       "\n",
       "    <div>\n",
       "      <progress value='3000' class='' max='3000' style='width:300px; height:20px; vertical-align: middle;'></progress>\n",
       "      100.00% [3000/3000 02:27&lt;00:00 Sampling chain 3, 0 divergences]\n",
       "    </div>\n",
       "    "
      ],
      "text/plain": [
       "<IPython.core.display.HTML object>"
      ]
     },
     "metadata": {},
     "output_type": "display_data"
    },
    {
     "name": "stderr",
     "output_type": "stream",
     "text": [
      "Sampling 4 chains for 1_000 tune and 2_000 draw iterations (4_000 + 8_000 draws total) took 578 seconds.\n",
      "The rhat statistic is larger than 1.01 for some parameters. This indicates problems during sampling. See https://arxiv.org/abs/1903.08008 for details\n"
     ]
    }
   ],
   "source": [
    "with pm.Model() as bart_model:\n",
    "    X = pm.Data(\"X\", np.array(X_train), mutable=True)\n",
    "    Y = np.array(Y_train)\n",
    "    sigma = pm.Normal('sigma', Y.std())\n",
    "    mu = pmb.BART('mu', X, Y, m=200)\n",
    "    y = pm.Normal('y', mu, sigma, observed=Y, shape=mu.shape)\n",
    "    idata_bart_model = pm.sample(2000, tune=1000, chains=4, cores=1, return_inferencedata=True)"
   ]
  },
  {
   "cell_type": "markdown",
   "metadata": {},
   "source": [
    "## 2.2 Model Diagnostics"
   ]
  },
  {
   "cell_type": "code",
   "execution_count": 10,
   "metadata": {},
   "outputs": [
    {
     "data": {
      "text/plain": [
       "array([[<Axes: title={'center': 'sigma'}>,\n",
       "        <Axes: title={'center': 'sigma'}, xlabel='Rank (all chains)', ylabel='Chain'>]],\n",
       "      dtype=object)"
      ]
     },
     "execution_count": 10,
     "metadata": {},
     "output_type": "execute_result"
    },
    {
     "data": {
      "image/png": "[encoded data removed]",
      "text/plain": [
       "<Figure size 1200x200 with 2 Axes>"
      ]
     },
     "metadata": {},
     "output_type": "display_data"
    }
   ],
   "source": [
    "az.plot_trace(idata_bart_model, var_names=[\"sigma\"], kind=\"rank_bars\")"
   ]
  },
  {
   "cell_type": "code",
   "execution_count": 11,
   "metadata": {},
   "outputs": [
    {
     "data": {
      "text/plain": [
       "array([<Axes: xlabel='ESS'>, <Axes: xlabel='R-hat'>], dtype=object)"
      ]
     },
     "execution_count": 11,
     "metadata": {},
     "output_type": "execute_result"
    },
    {
     "data": {
      "image/png": "[encoded data removed]",
      "text/plain": [
       "<Figure size 1000x300 with 2 Axes>"
      ]
     },
     "metadata": {},
     "output_type": "display_data"
    }
   ],
   "source": [
    "pmb.plot_convergence(idata_bart_model, var_name=\"mu\")"
   ]
  },
  {
   "cell_type": "code",
   "execution_count": 12,
   "metadata": {},
   "outputs": [
    {
     "data": {
      "text/html": [
       "<div>\n",
       "<style scoped>\n",
       "    .dataframe tbody tr th:only-of-type {\n",
       "        vertical-align: middle;\n",
       "    }\n",
       "\n",
       "    .dataframe tbody tr th {\n",
       "        vertical-align: top;\n",
       "    }\n",
       "\n",
       "    .dataframe thead th {\n",
       "        text-align: right;\n",
       "    }\n",
       "</style>\n",
       "<table border=\"1\" class=\"dataframe\">\n",
       "  <thead>\n",
       "    <tr style=\"text-align: right;\">\n",
       "      <th></th>\n",
       "      <th>mean</th>\n",
       "      <th>sd</th>\n",
       "      <th>hdi_3%</th>\n",
       "      <th>hdi_97%</th>\n",
       "      <th>mcse_mean</th>\n",
       "      <th>mcse_sd</th>\n",
       "      <th>ess_bulk</th>\n",
       "      <th>ess_tail</th>\n",
       "      <th>r_hat</th>\n",
       "    </tr>\n",
       "  </thead>\n",
       "  <tbody>\n",
       "    <tr>\n",
       "      <th>sigma</th>\n",
       "      <td>8.510</td>\n",
       "      <td>0.235</td>\n",
       "      <td>8.067</td>\n",
       "      <td>8.956</td>\n",
       "      <td>0.005</td>\n",
       "      <td>0.003</td>\n",
       "      <td>2655.0</td>\n",
       "      <td>4433.0</td>\n",
       "      <td>1.0</td>\n",
       "    </tr>\n",
       "    <tr>\n",
       "      <th>mu[0]</th>\n",
       "      <td>24.887</td>\n",
       "      <td>1.379</td>\n",
       "      <td>22.303</td>\n",
       "      <td>27.478</td>\n",
       "      <td>0.041</td>\n",
       "      <td>0.029</td>\n",
       "      <td>1131.0</td>\n",
       "      <td>2123.0</td>\n",
       "      <td>1.0</td>\n",
       "    </tr>\n",
       "    <tr>\n",
       "      <th>mu[1]</th>\n",
       "      <td>32.037</td>\n",
       "      <td>1.605</td>\n",
       "      <td>29.055</td>\n",
       "      <td>35.072</td>\n",
       "      <td>0.048</td>\n",
       "      <td>0.034</td>\n",
       "      <td>1137.0</td>\n",
       "      <td>2097.0</td>\n",
       "      <td>1.0</td>\n",
       "    </tr>\n",
       "    <tr>\n",
       "      <th>mu[2]</th>\n",
       "      <td>32.306</td>\n",
       "      <td>1.354</td>\n",
       "      <td>29.819</td>\n",
       "      <td>34.842</td>\n",
       "      <td>0.040</td>\n",
       "      <td>0.028</td>\n",
       "      <td>1174.0</td>\n",
       "      <td>2193.0</td>\n",
       "      <td>1.0</td>\n",
       "    </tr>\n",
       "    <tr>\n",
       "      <th>mu[3]</th>\n",
       "      <td>29.753</td>\n",
       "      <td>1.807</td>\n",
       "      <td>26.337</td>\n",
       "      <td>33.136</td>\n",
       "      <td>0.054</td>\n",
       "      <td>0.038</td>\n",
       "      <td>1118.0</td>\n",
       "      <td>1965.0</td>\n",
       "      <td>1.0</td>\n",
       "    </tr>\n",
       "    <tr>\n",
       "      <th>...</th>\n",
       "      <td>...</td>\n",
       "      <td>...</td>\n",
       "      <td>...</td>\n",
       "      <td>...</td>\n",
       "      <td>...</td>\n",
       "      <td>...</td>\n",
       "      <td>...</td>\n",
       "      <td>...</td>\n",
       "      <td>...</td>\n",
       "    </tr>\n",
       "    <tr>\n",
       "      <th>mu[663]</th>\n",
       "      <td>20.572</td>\n",
       "      <td>1.379</td>\n",
       "      <td>17.916</td>\n",
       "      <td>23.099</td>\n",
       "      <td>0.039</td>\n",
       "      <td>0.027</td>\n",
       "      <td>1262.0</td>\n",
       "      <td>2264.0</td>\n",
       "      <td>1.0</td>\n",
       "    </tr>\n",
       "    <tr>\n",
       "      <th>mu[664]</th>\n",
       "      <td>18.992</td>\n",
       "      <td>1.313</td>\n",
       "      <td>16.606</td>\n",
       "      <td>21.512</td>\n",
       "      <td>0.038</td>\n",
       "      <td>0.027</td>\n",
       "      <td>1168.0</td>\n",
       "      <td>2037.0</td>\n",
       "      <td>1.0</td>\n",
       "    </tr>\n",
       "    <tr>\n",
       "      <th>mu[665]</th>\n",
       "      <td>24.219</td>\n",
       "      <td>1.406</td>\n",
       "      <td>21.616</td>\n",
       "      <td>26.857</td>\n",
       "      <td>0.041</td>\n",
       "      <td>0.029</td>\n",
       "      <td>1172.0</td>\n",
       "      <td>2112.0</td>\n",
       "      <td>1.0</td>\n",
       "    </tr>\n",
       "    <tr>\n",
       "      <th>mu[666]</th>\n",
       "      <td>28.093</td>\n",
       "      <td>1.387</td>\n",
       "      <td>25.513</td>\n",
       "      <td>30.686</td>\n",
       "      <td>0.042</td>\n",
       "      <td>0.029</td>\n",
       "      <td>1114.0</td>\n",
       "      <td>2217.0</td>\n",
       "      <td>1.0</td>\n",
       "    </tr>\n",
       "    <tr>\n",
       "      <th>mu[667]</th>\n",
       "      <td>16.945</td>\n",
       "      <td>1.328</td>\n",
       "      <td>14.533</td>\n",
       "      <td>19.526</td>\n",
       "      <td>0.038</td>\n",
       "      <td>0.027</td>\n",
       "      <td>1233.0</td>\n",
       "      <td>2323.0</td>\n",
       "      <td>1.0</td>\n",
       "    </tr>\n",
       "  </tbody>\n",
       "</table>\n",
       "<p>669 rows × 9 columns</p>\n",
       "</div>"
      ],
      "text/plain": [
       "           mean     sd  hdi_3%  hdi_97%  mcse_mean  mcse_sd  ess_bulk  \\\n",
       "sigma     8.510  0.235   8.067    8.956      0.005    0.003    2655.0   \n",
       "mu[0]    24.887  1.379  22.303   27.478      0.041    0.029    1131.0   \n",
       "mu[1]    32.037  1.605  29.055   35.072      0.048    0.034    1137.0   \n",
       "mu[2]    32.306  1.354  29.819   34.842      0.040    0.028    1174.0   \n",
       "mu[3]    29.753  1.807  26.337   33.136      0.054    0.038    1118.0   \n",
       "...         ...    ...     ...      ...        ...      ...       ...   \n",
       "mu[663]  20.572  1.379  17.916   23.099      0.039    0.027    1262.0   \n",
       "mu[664]  18.992  1.313  16.606   21.512      0.038    0.027    1168.0   \n",
       "mu[665]  24.219  1.406  21.616   26.857      0.041    0.029    1172.0   \n",
       "mu[666]  28.093  1.387  25.513   30.686      0.042    0.029    1114.0   \n",
       "mu[667]  16.945  1.328  14.533   19.526      0.038    0.027    1233.0   \n",
       "\n",
       "         ess_tail  r_hat  \n",
       "sigma      4433.0    1.0  \n",
       "mu[0]      2123.0    1.0  \n",
       "mu[1]      2097.0    1.0  \n",
       "mu[2]      2193.0    1.0  \n",
       "mu[3]      1965.0    1.0  \n",
       "...           ...    ...  \n",
       "mu[663]    2264.0    1.0  \n",
       "mu[664]    2037.0    1.0  \n",
       "mu[665]    2112.0    1.0  \n",
       "mu[666]    2217.0    1.0  \n",
       "mu[667]    2323.0    1.0  \n",
       "\n",
       "[669 rows x 9 columns]"
      ]
     },
     "execution_count": 12,
     "metadata": {},
     "output_type": "execute_result"
    }
   ],
   "source": [
    "pm.summary(idata_bart_model)"
   ]
  },
  {
   "cell_type": "markdown",
   "metadata": {},
   "source": [
    "# 3. Inference"
   ]
  },
  {
   "cell_type": "markdown",
   "metadata": {},
   "source": [
    "## 3.1 Training Scores"
   ]
  },
  {
   "cell_type": "code",
   "execution_count": 14,
   "metadata": {},
   "outputs": [
    {
     "name": "stderr",
     "output_type": "stream",
     "text": [
      "Sampling: [y]\n"
     ]
    },
    {
     "data": {
      "text/html": [
       "\n",
       "<style>\n",
       "    /* Turns off some styling */\n",
       "    progress {\n",
       "        /* gets rid of default border in Firefox and Opera. */\n",
       "        border: none;\n",
       "        /* Needs to be in here for Safari polyfill so background images work as expected. */\n",
       "        background-size: auto;\n",
       "    }\n",
       "    progress:not([value]), progress:not([value])::-webkit-progress-bar {\n",
       "        background: repeating-linear-gradient(45deg, #7e7e7e, #7e7e7e 10px, #5c5c5c 10px, #5c5c5c 20px);\n",
       "    }\n",
       "    .progress-bar-interrupted, .progress-bar-interrupted::-webkit-progress-bar {\n",
       "        background: #F44336;\n",
       "    }\n",
       "</style>\n"
      ],
      "text/plain": [
       "<IPython.core.display.HTML object>"
      ]
     },
     "metadata": {},
     "output_type": "display_data"
    },
    {
     "data": {
      "text/html": [
       "\n",
       "    <div>\n",
       "      <progress value='8000' class='' max='8000' style='width:300px; height:20px; vertical-align: middle;'></progress>\n",
       "      100.00% [8000/8000 00:00&lt;00:00]\n",
       "    </div>\n",
       "    "
      ],
      "text/plain": [
       "<IPython.core.display.HTML object>"
      ]
     },
     "metadata": {},
     "output_type": "display_data"
    }
   ],
   "source": [
    "with bart_model:\n",
    "    posterior_preds = pm.sample_posterior_predictive(idata_bart_model, model=bart_model, return_inferencedata=False)"
   ]
  },
  {
   "cell_type": "code",
   "execution_count": 15,
   "metadata": {},
   "outputs": [
    {
     "data": {
      "text/plain": [
       "array([25.00314168, 32.05618927, 32.48456536, 29.75336609, 26.43012708,\n",
       "       20.36854454, 14.19963865, 26.37422313, 21.71626644, 24.70872392,\n",
       "       22.32063623, 26.08040235, 23.35148204, 23.4491619 , 19.47808043,\n",
       "       25.00284644, 21.65749722, 24.3774526 , 21.39939598, 27.60045462,\n",
       "       25.7478023 , 29.32870899, 27.82977579, 25.81706163, 29.30144123,\n",
       "       22.13174495, 22.82286074, 31.8807456 , 21.17296203, 26.74202689,\n",
       "       30.76420595, 28.33955614, 24.55415264, 28.71897856, 26.7974479 ,\n",
       "       31.00534648, 26.74257226, 24.2853419 , 24.57717494, 24.55100538,\n",
       "       18.43015774, 27.91273175, 23.30851491, 30.12413255, 26.44490423,\n",
       "       28.25752413, 22.77809587, 16.78959098, 28.81142793, 17.64906855,\n",
       "       25.86044265, 21.0999243 , 17.87009665, 32.22549341, 28.96647362,\n",
       "       21.54610173, 29.72102231, 19.17592085, 18.47224448, 21.83017387,\n",
       "       21.18432403, 22.52488549, 29.40402074, 24.27892395, 27.35936043,\n",
       "       30.73649039, 22.14992854, 18.59316854, 29.58398708, 29.07612929,\n",
       "       18.09119051, 26.61591797, 18.89327437, 24.1348507 , 30.65816709,\n",
       "       26.25440033, 31.13048362, 20.90749094, 26.82213195, 24.88286744,\n",
       "       27.49614896, 15.9509345 , 25.23801285, 20.67178055, 23.69553485,\n",
       "       24.52580048, 24.02835467, 17.50009921, 29.19912109, 23.94234778,\n",
       "       28.03713235, 20.72466841, 26.85471333, 20.24236357, 26.43774456,\n",
       "       22.18008784, 29.91845475, 21.83698765, 24.84447688, 20.25857394,\n",
       "       27.13587733, 24.66900901, 30.16091583, 24.68950911, 32.08258852,\n",
       "       25.09630461, 25.37114109, 26.43836938, 25.08473664, 23.98373628,\n",
       "       25.31298475, 19.65520347, 28.22212985, 23.89816293, 20.1175312 ,\n",
       "       18.87877957, 27.41563376, 21.44746626, 26.36740178, 27.10920808,\n",
       "       26.70405289, 22.69000089, 23.71455911, 26.05104173, 22.46001662,\n",
       "       29.39344457, 24.06868401, 23.89720264, 24.33091812, 25.24425072,\n",
       "       24.76672288, 20.95807764, 30.36925037, 32.91344336, 21.09365346,\n",
       "       21.23645606, 28.25540194, 25.91493797, 18.94647703, 26.70810653,\n",
       "       29.0234244 , 20.45351975, 20.71415137, 20.90594114, 20.39674423,\n",
       "       31.29297524, 18.53451376, 29.63953688, 25.25258439, 25.70002805,\n",
       "       24.17432994, 26.50048162, 20.60934729, 18.45386334, 27.83664611,\n",
       "       22.19277681, 20.84201242, 24.27091012, 25.16221631, 24.10201015,\n",
       "       25.63957546, 29.91995142, 22.34398623, 25.47417465, 27.9169139 ,\n",
       "       22.5838807 , 31.85720395, 26.53908544, 27.43683396, 28.65403025,\n",
       "       24.60482094, 24.47832062, 18.49102305, 18.61934265, 24.78865827,\n",
       "       23.80204121, 27.4433904 , 25.62884377, 24.91387333, 27.80685281,\n",
       "       25.13985517, 29.24375263, 21.34690643, 22.94336336, 26.39231191,\n",
       "       19.8751309 , 21.19515555, 19.49914828, 24.96391489, 24.14319247,\n",
       "       26.76617871, 23.739878  , 27.71888345, 23.98985713, 22.73193806,\n",
       "       31.53269117, 24.65374172, 26.43049771, 18.53443569, 29.30434599,\n",
       "       24.91581641, 24.09590427, 23.00653457, 22.61008507, 31.40865622,\n",
       "       25.06126184, 20.25850746, 18.69235114, 28.79032816, 26.80521383,\n",
       "       20.3458348 , 17.6580657 , 25.52677742, 23.99551968, 23.73564721,\n",
       "       30.27641723, 26.9702451 , 20.9406405 , 31.26566688, 20.25176185,\n",
       "       18.95589416, 28.14915816, 21.48290957, 26.09285796, 18.43126496,\n",
       "       29.15866865, 27.45995212, 23.66406455, 28.32801367, 26.25643031,\n",
       "       29.11574434, 25.83908566, 22.98481926, 19.6416512 , 22.14077762,\n",
       "       29.70807299, 30.28364174, 24.73642004, 22.73506015, 22.42905889,\n",
       "       26.96174796, 13.49130309, 27.99916198, 25.93355111, 24.92801301,\n",
       "       30.17481523, 24.26470718, 26.08993555, 32.20417505, 27.71650431,\n",
       "       26.15868034, 30.55650165, 23.7383374 , 24.80656654, 24.74658169,\n",
       "       23.4431179 , 27.89162552, 22.50399417, 30.06993673, 32.17859904,\n",
       "       19.53744197, 20.47074867, 24.749537  , 30.57830169, 16.2233125 ,\n",
       "       26.52921196, 24.4314486 , 28.55139384, 30.11418792, 21.93790208,\n",
       "       25.52526603, 30.54548949, 26.34637479, 28.29963406, 25.21262616,\n",
       "       19.52597175, 29.25142455, 25.55287404, 23.23641616, 25.21122889,\n",
       "       22.92720807, 31.69443565, 26.48225714, 27.79606466, 23.70323036,\n",
       "       22.18081947, 26.38533568, 24.79429811, 17.27385917, 22.8188692 ,\n",
       "       17.1577808 , 30.4548855 , 26.32761862, 23.91235804, 19.40725273,\n",
       "       22.40642196, 30.54365016, 22.66972169, 29.27483679, 26.76897273,\n",
       "       18.56871355, 27.73583827, 26.46933415, 25.98394093, 23.42395915,\n",
       "       19.24318023, 27.58174489, 22.55190445, 26.45968647, 21.21606636,\n",
       "       21.06150981, 24.36180458, 23.21573538, 32.73426832, 27.50561034,\n",
       "       26.71822923, 23.47256713, 24.87152786, 24.97464111, 23.2451914 ,\n",
       "       17.50521498, 28.04640001, 28.6624416 , 22.81526643, 29.19916183,\n",
       "       24.40161712, 16.88678402, 27.16989092, 24.61616492, 25.6502138 ,\n",
       "       22.72919432, 19.30881972, 25.70887423, 25.83408646, 29.52348599,\n",
       "       21.84387232, 20.29529724, 17.99510718, 22.27260037, 24.69774725,\n",
       "       27.11079999, 26.33745017, 26.03732413, 24.82971269, 27.32049508,\n",
       "       23.30437763, 20.28551963, 25.22566761, 21.90983589, 28.08682911,\n",
       "       24.40482629, 27.51107121, 29.09449452, 24.0922306 , 29.37221051,\n",
       "       24.21407077, 27.10147913, 24.09744501, 25.08110329, 22.10254964,\n",
       "       25.02854904, 21.27921213, 18.77252671, 25.56656017, 21.7791087 ,\n",
       "       30.30450559, 24.32118184, 26.20857121, 24.78829486, 21.98652658,\n",
       "       31.98384538, 24.63383673, 21.59665087, 24.10489474, 28.7674078 ,\n",
       "       25.23540549, 18.17076388, 21.80813811, 26.66987961, 24.46890118,\n",
       "       25.76599848, 28.5073795 , 30.95587939, 27.62686255, 23.61580232,\n",
       "       31.94995224, 30.18915393, 27.27266348, 29.71383715, 30.39156282,\n",
       "       26.44055809, 20.98840725, 26.97176506, 24.75393408, 30.1632477 ,\n",
       "       29.22470989, 24.26408073, 17.62596032, 22.8366024 , 22.59551063,\n",
       "       17.56824203, 27.15056094, 29.39923641, 20.11691324, 19.31961411,\n",
       "       20.46734688, 26.88751885, 27.91569059, 25.85575007, 30.9632545 ,\n",
       "       22.61677672, 21.32683373, 32.46531869, 21.03990891, 29.18422008,\n",
       "       25.966641  , 25.38355505, 25.28775781, 25.31441934, 23.9936979 ,\n",
       "       24.61325238, 24.37253153, 21.66801637, 28.52062641, 20.77295321,\n",
       "       30.84108935, 23.84093874, 26.61048806, 25.91432483, 15.19687945,\n",
       "       15.1068549 , 29.24916351, 24.40351038, 27.15391419, 24.06117701,\n",
       "       26.24048212, 25.14369966, 23.10172757, 18.69377447, 31.7093323 ,\n",
       "       29.11682069, 13.63107013, 29.33771607, 22.1633067 , 29.555838  ,\n",
       "       23.60681804, 22.29693078, 28.89375468, 20.39292096, 22.53886689,\n",
       "       22.53129476, 30.44334857, 22.32048743, 28.29301638, 26.03940422,\n",
       "       18.52304751, 27.63380919, 31.96054319, 26.03080302, 24.97471314,\n",
       "       23.23906408, 25.60409831, 24.49924663, 25.05821086, 23.57865699,\n",
       "       31.82407612, 24.03267133, 30.57985891, 28.96521029, 22.71121959,\n",
       "       23.63410005, 31.43981425, 29.45474487, 25.89904767, 17.35677936,\n",
       "       17.01144883, 26.65389015, 26.90332502, 23.27596714, 19.21334221,\n",
       "       32.87519641, 23.37074722, 24.08307449, 28.61448373, 24.63360898,\n",
       "       23.16782058, 23.19740899, 25.9834084 , 26.47906352, 21.19728744,\n",
       "       24.2345242 , 27.39085984, 23.08367582, 29.64914145, 30.19090122,\n",
       "       25.45622071, 26.86859017, 23.86002672, 26.94978143, 28.2398836 ,\n",
       "       26.95720497, 23.25496214, 24.6786425 , 31.26957228, 25.57707076,\n",
       "       31.87966816, 28.81462804, 26.57782536, 18.43459229, 26.76669136,\n",
       "       21.01194848, 25.03088208, 21.66402431, 26.64994438, 22.87518892,\n",
       "       32.38905487, 30.30570087, 31.19102775, 29.75317089, 19.75861548,\n",
       "       25.03181826, 22.55475724, 23.23156676, 32.67991066, 27.84101932,\n",
       "       26.60099663, 25.04078011, 22.22997795, 26.6741517 , 30.05898574,\n",
       "       31.05255587, 23.14462463, 18.39502258, 27.03010348, 24.87386344,\n",
       "       29.14398341, 25.75292364, 31.15427247, 19.43021846, 25.27359713,\n",
       "       26.79046549, 26.87796767, 21.49409977, 23.53403457, 25.3580884 ,\n",
       "       16.90435222, 19.11665254, 26.52478615, 18.76964662, 23.649166  ,\n",
       "       20.77628232, 22.55048263, 29.30266288, 31.41340516, 29.79063138,\n",
       "       29.5737562 , 25.67265065, 14.07261874, 19.81244464, 24.09198585,\n",
       "       26.20503174, 14.94479761, 30.19473582, 25.85240658, 19.27982695,\n",
       "       20.22649409, 22.39229266, 22.25713384, 26.41609985, 26.98984118,\n",
       "       22.38129831, 23.95831759, 19.57792036, 20.93090546, 29.10437642,\n",
       "       27.51641911, 23.82473176, 32.99086766, 24.71444597, 28.4280191 ,\n",
       "       26.71243177, 27.61942573, 31.05083757, 23.51882316, 23.08869902,\n",
       "       21.10943314, 27.02394485, 27.2492514 , 28.69779654, 32.73671991,\n",
       "       24.52923288, 17.24730283, 25.18630815, 31.94574149, 19.28453817,\n",
       "       29.25610572, 27.04678955, 20.53810219, 23.89347949, 21.00003161,\n",
       "       24.62654514, 27.88170237, 29.17931629, 24.55430374, 17.68210205,\n",
       "       23.89466377, 25.1909483 , 25.46894719, 25.74046694, 23.83927747,\n",
       "       19.14358209, 22.6652085 , 27.72497351, 31.94954609, 24.13502555,\n",
       "       21.68950837, 29.26442829, 26.62507915, 24.06268162, 27.60749133,\n",
       "       25.83672231, 24.14504757, 27.56753381, 27.54571706, 31.07523118,\n",
       "       20.92786909, 28.28690156, 32.82731664, 24.52281943, 32.15568357,\n",
       "       23.26223542, 19.75792803, 25.35755869, 28.478412  , 24.72894929,\n",
       "       22.84005391, 19.76732444, 23.4908296 , 29.39862593, 22.60392002,\n",
       "       21.6531569 , 23.56690239, 28.30010356, 26.45353712, 29.93833751,\n",
       "       27.84429362, 25.3592055 , 26.35006074, 25.78085131, 33.48735634,\n",
       "       21.30028857, 28.5145612 , 21.07395228, 22.73625032, 21.28493098,\n",
       "       29.3215775 , 24.17785767, 24.57428734, 26.96986454, 20.95802239,\n",
       "       28.07719712, 19.80928952, 32.1275603 , 20.63063258, 18.86998983,\n",
       "       24.30846722, 27.95240767, 17.03773068])"
      ]
     },
     "execution_count": 15,
     "metadata": {},
     "output_type": "execute_result"
    }
   ],
   "source": [
    "posterior_preds['y'].mean(axis=0).mean(axis=0)"
   ]
  },
  {
   "cell_type": "code",
   "execution_count": 16,
   "metadata": {},
   "outputs": [],
   "source": [
    "y_pred_mean = posterior_preds['y'].mean(axis=0).mean(axis=0)\n",
    "y_pred_median = np.median(np.median(posterior_preds['y'], axis=0), axis=0)"
   ]
  },
  {
   "cell_type": "code",
   "execution_count": 17,
   "metadata": {},
   "outputs": [
    {
     "name": "stdout",
     "output_type": "stream",
     "text": [
      "RMSE TRAIN MEAN : 8.304597195975271\n",
      "MAE TRAIN MEAN : 6.525749411653065\n",
      "RMSE TRAIN MEDIAN : 8.308640453933902\n",
      "MAE TRAIN MEDIAN : 6.53014970143366\n"
     ]
    }
   ],
   "source": [
    "print('RMSE TRAIN MEAN : {}'.format(np.sqrt(mean_squared_error(Y_train, y_pred_mean))))\n",
    "print('MAE TRAIN MEAN : {}'.format(mean_absolute_error(Y_train, y_pred_mean)))\n",
    "print('RMSE TRAIN MEDIAN : {}'.format(np.sqrt(mean_squared_error(Y_train, y_pred_median))))\n",
    "print('MAE TRAIN MEDIAN : {}'.format(mean_absolute_error(Y_train, y_pred_median)))"
   ]
  },
  {
   "cell_type": "markdown",
   "metadata": {},
   "source": [
    "## 3.2 Test Score"
   ]
  },
  {
   "cell_type": "code",
   "execution_count": 18,
   "metadata": {},
   "outputs": [
    {
     "name": "stderr",
     "output_type": "stream",
     "text": [
      "Sampling: [mu, y]\n"
     ]
    },
    {
     "data": {
      "text/html": [
       "\n",
       "<style>\n",
       "    /* Turns off some styling */\n",
       "    progress {\n",
       "        /* gets rid of default border in Firefox and Opera. */\n",
       "        border: none;\n",
       "        /* Needs to be in here for Safari polyfill so background images work as expected. */\n",
       "        background-size: auto;\n",
       "    }\n",
       "    progress:not([value]), progress:not([value])::-webkit-progress-bar {\n",
       "        background: repeating-linear-gradient(45deg, #7e7e7e, #7e7e7e 10px, #5c5c5c 10px, #5c5c5c 20px);\n",
       "    }\n",
       "    .progress-bar-interrupted, .progress-bar-interrupted::-webkit-progress-bar {\n",
       "        background: #F44336;\n",
       "    }\n",
       "</style>\n"
      ],
      "text/plain": [
       "<IPython.core.display.HTML object>"
      ]
     },
     "metadata": {},
     "output_type": "display_data"
    },
    {
     "data": {
      "text/html": [
       "\n",
       "    <div>\n",
       "      <progress value='8000' class='' max='8000' style='width:300px; height:20px; vertical-align: middle;'></progress>\n",
       "      100.00% [8000/8000 02:56&lt;00:00]\n",
       "    </div>\n",
       "    "
      ],
      "text/plain": [
       "<IPython.core.display.HTML object>"
      ]
     },
     "metadata": {},
     "output_type": "display_data"
    }
   ],
   "source": [
    "with bart_model:\n",
    "    X.set_value(X_test)\n",
    "    posterior_predictive_test = pm.sample_posterior_predictive(idata_bart_model, model=bart_model, return_inferencedata=False)"
   ]
  },
  {
   "cell_type": "code",
   "execution_count": 19,
   "metadata": {},
   "outputs": [],
   "source": [
    "y_pred_mean_test = posterior_predictive_test['y'].mean(axis=0).mean(axis=0)\n",
    "y_pred_median_test = np.median(np.median(posterior_predictive_test['y'], axis=0), axis=0)"
   ]
  },
  {
   "cell_type": "code",
   "execution_count": 20,
   "metadata": {},
   "outputs": [
    {
     "name": "stdout",
     "output_type": "stream",
     "text": [
      "RMSE TEST MEAN : 8.945603541287344\n",
      "MAE TEST MEAN : 7.220035566191309\n",
      "RMSE TEST MEDIAN : 8.946738841503159\n",
      "MAE TEST MEDIAN : 7.22197840040521\n"
     ]
    }
   ],
   "source": [
    "print('RMSE TEST MEAN : {}'.format(np.sqrt(mean_squared_error(Y_test, y_pred_mean_test))))\n",
    "print('MAE TEST MEAN : {}'.format(mean_absolute_error(Y_test, y_pred_mean_test)))\n",
    "print('RMSE TEST MEDIAN : {}'.format(np.sqrt(mean_squared_error(Y_test, y_pred_median_test))))\n",
    "print('MAE TEST MEDIAN : {}'.format(mean_absolute_error(Y_test, y_pred_median_test)))"
   ]
  },
  {
   "cell_type": "markdown",
   "metadata": {},
   "source": [
    "# 4. Predicting on Single Out of Sample"
   ]
  },
  {
   "cell_type": "code",
   "execution_count": 31,
   "metadata": {},
   "outputs": [],
   "source": [
    "sample_input = np.array([X_test.iloc[-1, :].values])"
   ]
  },
  {
   "cell_type": "code",
   "execution_count": 32,
   "metadata": {},
   "outputs": [
    {
     "data": {
      "text/plain": [
       "array([[ 25.90909091,   7.72727273,   9.68181818,   5.31818182,\n",
       "          0.40375587,   0.64983184,   0.60313316, 119.95454545,\n",
       "        101.13863636,  22.17391304,   0.4372549 ,  10.        ,\n",
       "          0.36956522,   7.43478261,  19.95652174,  22.13636364]])"
      ]
     },
     "execution_count": 32,
     "metadata": {},
     "output_type": "execute_result"
    }
   ],
   "source": [
    "sample_input"
   ]
  },
  {
   "cell_type": "code",
   "execution_count": 33,
   "metadata": {},
   "outputs": [
    {
     "name": "stderr",
     "output_type": "stream",
     "text": [
      "Sampling: [mu, y]\n"
     ]
    },
    {
     "data": {
      "text/html": [
       "\n",
       "<style>\n",
       "    /* Turns off some styling */\n",
       "    progress {\n",
       "        /* gets rid of default border in Firefox and Opera. */\n",
       "        border: none;\n",
       "        /* Needs to be in here for Safari polyfill so background images work as expected. */\n",
       "        background-size: auto;\n",
       "    }\n",
       "    progress:not([value]), progress:not([value])::-webkit-progress-bar {\n",
       "        background: repeating-linear-gradient(45deg, #7e7e7e, #7e7e7e 10px, #5c5c5c 10px, #5c5c5c 20px);\n",
       "    }\n",
       "    .progress-bar-interrupted, .progress-bar-interrupted::-webkit-progress-bar {\n",
       "        background: #F44336;\n",
       "    }\n",
       "</style>\n"
      ],
      "text/plain": [
       "<IPython.core.display.HTML object>"
      ]
     },
     "metadata": {},
     "output_type": "display_data"
    },
    {
     "data": {
      "text/html": [
       "\n",
       "    <div>\n",
       "      <progress value='8000' class='' max='8000' style='width:300px; height:20px; vertical-align: middle;'></progress>\n",
       "      100.00% [8000/8000 02:59&lt;00:00]\n",
       "    </div>\n",
       "    "
      ],
      "text/plain": [
       "<IPython.core.display.HTML object>"
      ]
     },
     "metadata": {},
     "output_type": "display_data"
    }
   ],
   "source": [
    "with bart_model:\n",
    "    X.set_value(sample_input)\n",
    "    posterior_predictive_point = pm.sample_posterior_predictive(idata_bart_model, model=bart_model, return_inferencedata=False)"
   ]
  },
  {
   "cell_type": "code",
   "execution_count": 34,
   "metadata": {},
   "outputs": [],
   "source": [
    "posterior_preds_point = posterior_predictive_point['y'].mean(axis=0)"
   ]
  },
  {
   "cell_type": "code",
   "execution_count": 38,
   "metadata": {},
   "outputs": [
    {
     "name": "stdout",
     "output_type": "stream",
     "text": [
      "Probability of Steph scoring more than 24.5 : 0.5025\n",
      "Player Prop Betting Line : -101.00502512562812\n"
     ]
    }
   ],
   "source": [
    "point_value = 24.5\n",
    "points_prob = len(posterior_preds_point[posterior_preds_point > point_value]) / len(posterior_preds_point)\n",
    "print('Probability of Steph scoring more than {} : {}'.format(point_value, points_prob))\n",
    "print('Player Prop Betting Line : {}'.format(odds_calculator(points_prob)))"
   ]
  },
  {
   "cell_type": "code",
   "execution_count": 36,
   "metadata": {},
   "outputs": [
    {
     "data": {
      "text/plain": [
       "24.530793475037893"
      ]
     },
     "execution_count": 36,
     "metadata": {},
     "output_type": "execute_result"
    }
   ],
   "source": [
    "np.median(posterior_predictive_point['y'].mean(axis=0))"
   ]
  },
  {
   "cell_type": "code",
   "execution_count": 39,
   "metadata": {},
   "outputs": [
    {
     "data": {
      "text/plain": [
       "26"
      ]
     },
     "execution_count": 39,
     "metadata": {},
     "output_type": "execute_result"
    }
   ],
   "source": [
    "Y_test.iloc[-1]"
   ]
  },
  {
   "cell_type": "code",
   "execution_count": 40,
   "metadata": {},
   "outputs": [
    {
     "data": {
      "image/png": "[encoded data removed]",
      "text/plain": [
       "<Figure size 640x480 with 1 Axes>"
      ]
     },
     "metadata": {},
     "output_type": "display_data"
    }
   ],
   "source": [
    "plt.hist(posterior_predictive_point['y'].mean(axis=0))\n",
    "plt.show()"
   ]
  },
  {
   "cell_type": "code",
   "execution_count": 404,
   "metadata": {},
   "outputs": [
    {
     "data": {
      "text/plain": [
       "([11,\n",
       "  27,\n",
       "  6,\n",
       "  23,\n",
       "  46,\n",
       "  38,\n",
       "  32,\n",
       "  52,\n",
       "  20,\n",
       "  22,\n",
       "  30,\n",
       "  21,\n",
       "  51,\n",
       "  24,\n",
       "  2,\n",
       "  0,\n",
       "  28,\n",
       "  19,\n",
       "  56,\n",
       "  26,\n",
       "  37,\n",
       "  44,\n",
       "  7,\n",
       "  54,\n",
       "  14,\n",
       "  31,\n",
       "  9,\n",
       "  1,\n",
       "  39,\n",
       "  16,\n",
       "  35,\n",
       "  36,\n",
       "  53,\n",
       "  29,\n",
       "  48,\n",
       "  57,\n",
       "  47,\n",
       "  40,\n",
       "  5,\n",
       "  50,\n",
       "  3,\n",
       "  34,\n",
       "  25,\n",
       "  42,\n",
       "  45,\n",
       "  33,\n",
       "  10,\n",
       "  17,\n",
       "  8,\n",
       "  55,\n",
       "  13,\n",
       "  41,\n",
       "  12,\n",
       "  4,\n",
       "  49,\n",
       "  18,\n",
       "  43,\n",
       "  15],\n",
       " <Axes: ylabel='R²'>)"
      ]
     },
     "execution_count": 404,
     "metadata": {},
     "output_type": "execute_result"
    },
    {
     "data": {
      "image/png": "[encoded data removed]",
      "text/plain": [
       "<Figure size 800x300 with 1 Axes>"
      ]
     },
     "metadata": {},
     "output_type": "display_data"
    }
   ],
   "source": [
    "pmb.plot_variable_importance(idata_bart_model, mu, X_train)"
   ]
  },
  {
   "cell_type": "code",
   "execution_count": 410,
   "metadata": {},
   "outputs": [
    {
     "data": {
      "text/plain": [
       "<Figure size 1800x1200 with 0 Axes>"
      ]
     },
     "metadata": {},
     "output_type": "display_data"
    },
    {
     "data": {
      "image/png": "[encoded data removed]",
      "text/plain": [
       "<Figure size 800x300 with 1 Axes>"
      ]
     },
     "metadata": {},
     "output_type": "display_data"
    }
   ],
   "source": [
    "plt.figure(figsize=(18,12))\n",
    "pmb.plot_variable_importance(idata_bart_model, mu, X_train)\n",
    "plt.xticks(rotation=90)\n",
    "plt.show()"
   ]
  },
  {
   "cell_type": "code",
   "execution_count": 407,
   "metadata": {},
   "outputs": [
    {
     "data": {
      "text/plain": [
       "Index(['3PA_5avg', 'Opp3PA_AllowedPerGameAvg'], dtype='object')"
      ]
     },
     "execution_count": 407,
     "metadata": {},
     "output_type": "execute_result"
    }
   ],
   "source": [
    "X_train.columns[[11,27]]"
   ]
  },
  {
   "cell_type": "code",
   "execution_count": 408,
   "metadata": {},
   "outputs": [
    {
     "data": {
      "text/plain": [
       "Index(['3PA_5avg', 'Opp3PA_AllowedPerGameAvg', 'FG_5avg', 'OppFG_FG%',\n",
       "       'Avg3PAbyGuardsVsOpponent',\n",
       "       'AvgPointsAllowedToIndividualGuardsVsOpponent', 'OppDRB_PerGameAvg',\n",
       "       'AvgTObyGuardsVsOpponent', 'OppPointsAllowedPerGameAvg',\n",
       "       'OppFGM_AllowedPerGameAvg', 'OppFT_AllowedPerGameAvg',\n",
       "       'OppFGA_AllowedPerGameAvg', 'AvgFTAbyIndividualGuardsVsOpponent',\n",
       "       'Opp2PA_AllowedPerGameAvg', '2PA_5avg', 'PTS_5avg'],\n",
       "      dtype='object')"
      ]
     },
     "execution_count": 408,
     "metadata": {},
     "output_type": "execute_result"
    }
   ],
   "source": [
    "X_train.columns[[11,\n",
    "  27,\n",
    "  6,\n",
    "  23,\n",
    "  46,\n",
    "  38,\n",
    "  32,\n",
    "  52,\n",
    "  20,\n",
    "  22,\n",
    "  30,\n",
    "  21,\n",
    "  51,\n",
    "  24,\n",
    "  2,\n",
    "  0]]"
   ]
  },
  {
   "cell_type": "code",
   "execution_count": null,
   "metadata": {},
   "outputs": [],
   "source": []
  },
  {
   "cell_type": "code",
   "execution_count": null,
   "metadata": {},
   "outputs": [],
   "source": []
  },
  {
   "cell_type": "code",
   "execution_count": null,
   "metadata": {},
   "outputs": [],
   "source": []
  },
  {
   "cell_type": "code",
   "execution_count": null,
   "metadata": {},
   "outputs": [],
   "source": []
  },
  {
   "cell_type": "code",
   "execution_count": null,
   "metadata": {},
   "outputs": [],
   "source": []
  },
  {
   "cell_type": "code",
   "execution_count": null,
   "metadata": {},
   "outputs": [],
   "source": []
  },
  {
   "cell_type": "code",
   "execution_count": null,
   "metadata": {},
   "outputs": [],
   "source": []
  },
  {
   "cell_type": "code",
   "execution_count": null,
   "metadata": {},
   "outputs": [],
   "source": []
  },
  {
   "cell_type": "code",
   "execution_count": null,
   "metadata": {},
   "outputs": [],
   "source": []
  },
  {
   "cell_type": "code",
   "execution_count": null,
   "metadata": {},
   "outputs": [],
   "source": []
  },
  {
   "cell_type": "code",
   "execution_count": null,
   "metadata": {},
   "outputs": [],
   "source": []
  },
  {
   "cell_type": "code",
   "execution_count": null,
   "metadata": {},
   "outputs": [],
   "source": []
  },
  {
   "cell_type": "code",
   "execution_count": null,
   "metadata": {},
   "outputs": [],
   "source": []
  },
  {
   "cell_type": "code",
   "execution_count": null,
   "metadata": {},
   "outputs": [],
   "source": []
  },
  {
   "cell_type": "code",
   "execution_count": null,
   "metadata": {},
   "outputs": [],
   "source": []
  },
  {
   "cell_type": "code",
   "execution_count": null,
   "metadata": {},
   "outputs": [],
   "source": []
  },
  {
   "cell_type": "code",
   "execution_count": null,
   "metadata": {},
   "outputs": [],
   "source": []
  },
  {
   "cell_type": "code",
   "execution_count": null,
   "metadata": {},
   "outputs": [],
   "source": []
  },
  {
   "cell_type": "code",
   "execution_count": null,
   "metadata": {},
   "outputs": [],
   "source": []
  },
  {
   "cell_type": "code",
   "execution_count": null,
   "metadata": {},
   "outputs": [],
   "source": []
  },
  {
   "cell_type": "code",
   "execution_count": null,
   "metadata": {},
   "outputs": [],
   "source": []
  },
  {
   "cell_type": "code",
   "execution_count": null,
   "metadata": {},
   "outputs": [],
   "source": []
  },
  {
   "cell_type": "code",
   "execution_count": null,
   "metadata": {},
   "outputs": [],
   "source": []
  },
  {
   "cell_type": "code",
   "execution_count": null,
   "metadata": {},
   "outputs": [],
   "source": []
  },
  {
   "cell_type": "code",
   "execution_count": null,
   "metadata": {},
   "outputs": [],
   "source": []
  },
  {
   "cell_type": "code",
   "execution_count": null,
   "metadata": {},
   "outputs": [],
   "source": []
  },
  {
   "cell_type": "code",
   "execution_count": null,
   "metadata": {},
   "outputs": [],
   "source": []
  },
  {
   "cell_type": "code",
   "execution_count": null,
   "metadata": {},
   "outputs": [],
   "source": []
  },
  {
   "cell_type": "code",
   "execution_count": null,
   "metadata": {},
   "outputs": [],
   "source": []
  },
  {
   "cell_type": "code",
   "execution_count": null,
   "metadata": {},
   "outputs": [],
   "source": []
  },
  {
   "cell_type": "code",
   "execution_count": null,
   "metadata": {},
   "outputs": [],
   "source": []
  },
  {
   "cell_type": "code",
   "execution_count": null,
   "metadata": {},
   "outputs": [],
   "source": []
  },
  {
   "cell_type": "code",
   "execution_count": null,
   "metadata": {},
   "outputs": [],
   "source": []
  }
 ],
 "metadata": {
  "kernelspec": {
   "display_name": "Python 3",
   "language": "python",
   "name": "python3"
  },
  "language_info": {
   "codemirror_mode": {
    "name": "ipython",
    "version": 3
   },
   "file_extension": ".py",
   "mimetype": "text/x-python",
   "name": "python",
   "nbconvert_exporter": "python",
   "pygments_lexer": "ipython3",
   "version": "3.11.6"
  },
  "orig_nbformat": 4
 },
 "nbformat": 4,
 "nbformat_minor": 2
}
